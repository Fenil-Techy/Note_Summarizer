{
 "cells": [
  {
   "cell_type": "code",
   "execution_count": 1,
   "id": "54108a5a",
   "metadata": {},
   "outputs": [],
   "source": [
    "import os\n",
    "import traceback\n"
   ]
  },
  {
   "cell_type": "code",
   "execution_count": 2,
   "id": "0e4190fd",
   "metadata": {},
   "outputs": [],
   "source": [
    "from langchain_ollama import ChatOllama"
   ]
  },
  {
   "cell_type": "code",
   "execution_count": 5,
   "id": "e35a677f",
   "metadata": {},
   "outputs": [],
   "source": [
    "from langchain.prompts import ChatPromptTemplate,  HumanMessagePromptTemplate"
   ]
  },
  {
   "cell_type": "code",
   "execution_count": 25,
   "id": "24d433ff",
   "metadata": {},
   "outputs": [],
   "source": [
    "llm = ChatOllama(model=\"llama3.1:8b\")"
   ]
  },
  {
   "cell_type": "code",
   "execution_count": 45,
   "id": "291a2d03",
   "metadata": {},
   "outputs": [],
   "source": [
    "TEMPLATE='''\n",
    "You are the best text summarizer in the world.\n",
    "Given the following text, summarize it in a clear, concise, and well-structured manner.\n",
    "Your summary should:\n",
    "- Highlight the key concept(s) as headings.\n",
    "- Present the key points under each heading as bullet points.\n",
    "- Avoid unnecessary details\n",
    "\n",
    "TEXT: {text}\n",
    "'''\n"
   ]
  },
  {
   "cell_type": "code",
   "execution_count": 46,
   "id": "c48a22e6",
   "metadata": {},
   "outputs": [],
   "source": [
    "summarizer_prompt= ChatPromptTemplate.from_messages([\n",
    "    HumanMessagePromptTemplate.from_template(TEMPLATE)\n",
    "])"
   ]
  },
  {
   "cell_type": "code",
   "execution_count": 47,
   "id": "d0f2a9b9",
   "metadata": {},
   "outputs": [],
   "source": [
    "summarizer_chain = summarizer_prompt | llm"
   ]
  },
  {
   "cell_type": "code",
   "execution_count": 48,
   "id": "57b25209",
   "metadata": {},
   "outputs": [
    {
     "data": {
      "text/plain": [
       "ChatPromptTemplate(input_variables=['text'], input_types={}, partial_variables={}, messages=[HumanMessagePromptTemplate(prompt=PromptTemplate(input_variables=['text'], input_types={}, partial_variables={}, template='\\nYou are the best text summarizer in the world.\\nGiven the following text, summarize it in a clear, concise, and well-structured manner.\\nYour summary should:\\n- Highlight the key concept(s) as headings.\\n- Present the key points under each heading as bullet points.\\n- Avoid unnecessary details\\n\\nTEXT: {text}\\n'), additional_kwargs={})])\n",
       "| ChatOllama(model='llama3.1:8b')"
      ]
     },
     "execution_count": 48,
     "metadata": {},
     "output_type": "execute_result"
    }
   ],
   "source": [
    "summarizer_chain"
   ]
  },
  {
   "cell_type": "code",
   "execution_count": 49,
   "id": "2efdb14a",
   "metadata": {},
   "outputs": [],
   "source": [
    "file_path=r\"E:\\Note_Summarizer\\data.txt\""
   ]
  },
  {
   "cell_type": "code",
   "execution_count": 50,
   "id": "e3b2f18c",
   "metadata": {},
   "outputs": [],
   "source": [
    "with open(file_path, \"r\", encoding=\"utf-8\") as file:\n",
    "    TEXT = file.read()"
   ]
  },
  {
   "cell_type": "code",
   "execution_count": 51,
   "id": "690c2589",
   "metadata": {},
   "outputs": [
    {
     "data": {
      "text/plain": [
       "'A black hole is a massive, compact astronomical object so dense that its gravity prevents anything from escaping, even light. Albert Einstein\\'s theory of general relativity predicts that a sufficiently compact mass will form a black hole.[4] The boundary of no escape is called the event horizon. A black hole has a great effect on the fate and circumstances of an object crossing it, but has no locally detectable features according to general relativity.[5] In many ways, a black hole acts like an ideal black body, as it reflects no light.[6][7] Quantum field theory in curved spacetime predicts that event horizons emit Hawking radiation, with the same spectrum as a black body of a temperature inversely proportional to its mass. This temperature is of the order of billionths of a kelvin for stellar black holes, making it essentially impossible to observe directly.\\n\\nObjects whose gravitational fields are too strong for light to escape were first considered in the 18th century by John Michell and Pierre-Simon Laplace. In 1916, Karl Schwarzschild found the first modern solution of general relativity that would characterise a black hole. Due to his influential research, the Schwarzschild metric is named after him. David Finkelstein, in 1958, first published the interpretation of \"black hole\" as a region of space from which nothing can escape. Black holes were long considered a mathematical curiosity; it was not until the 1960s that theoretical work showed they were a generic prediction of general relativity. The first black hole known was Cygnus X-1, identified by several researchers independently in 1971.[8][9]\\n\\nBlack holes typically form when massive stars collapse at the end of their life cycle. After a black hole has formed, it can grow by absorbing mass from its surroundings. Supermassive black holes of millions of solar masses may form by absorbing other stars and merging with other black holes, or via direct collapse of gas clouds. There is consensus that supermassive black holes exist in the centres of most galaxies.\\n\\nThe presence of a black hole can be inferred through its interaction with other matter and with electromagnetic radiation such as visible light. Matter falling toward a black hole can form an accretion disk of infalling plasma, heated by friction and emitting light. In extreme cases, this creates a quasar, some of the brightest objects in the universe. Stars passing too close to a supermassive black hole can be shredded into streamers that shine very brightly before being \"swallowed.\"[10] If other stars are orbiting a black hole, their orbits can be used to determine the black hole\\'s mass and location. Such observations can be used to exclude possible alternatives such as neutron stars. In this way, astronomers have identified numerous stellar black hole candidates in binary systems and established that the radio source known as Sagittarius A*, at the core of the Milky Way galaxy, contains a supermassive black hole of about 4.3 million solar masses.'"
      ]
     },
     "execution_count": 51,
     "metadata": {},
     "output_type": "execute_result"
    }
   ],
   "source": [
    "TEXT"
   ]
  },
  {
   "cell_type": "code",
   "execution_count": 52,
   "id": "a313cb7a",
   "metadata": {},
   "outputs": [],
   "source": [
    "note_summarizer = summarizer_chain.invoke({\"text\": TEXT})"
   ]
  },
  {
   "cell_type": "code",
   "execution_count": 53,
   "id": "05ae04b5",
   "metadata": {},
   "outputs": [
    {
     "name": "stdout",
     "output_type": "stream",
     "text": [
      "**What is a Black Hole?**\n",
      "\n",
      "* A massive, compact astronomical object with such strong gravity that not even light can escape\n",
      "* The boundary beyond which nothing can escape is called the event horizon\n",
      "* The gravity of a black hole affects the fate and circumstances of objects crossing it, but has no locally detectable features\n",
      "\n",
      "**History of Black Holes**\n",
      "\n",
      "* Conceptualized in the 18th century by John Michell and Pierre-Simon Laplace\n",
      "* Karl Schwarzschild found the first modern solution to general relativity in 1916\n",
      "* David Finkelstein coined the term \"black hole\" in 1958\n",
      "* Theoretical work in the 1960s confirmed that black holes are a generic prediction of general relativity\n",
      "\n",
      "**Formation and Characteristics**\n",
      "\n",
      "* Black holes typically form when massive stars collapse at the end of their life cycle\n",
      "* Supermassive black holes can form through the merger of smaller black holes or direct collapse of gas clouds\n",
      "* The presence of a supermassive black hole is inferred by its interaction with matter and electromagnetic radiation\n",
      "\n",
      "**Detection and Observations**\n",
      "\n",
      "* Matter falling towards a black hole forms an accretion disk that emits light, creating a quasar in extreme cases\n",
      "* Stars passing close to a supermassive black hole can be shredded into streamers\n",
      "* The orbits of stars around a black hole can be used to determine its mass and location\n"
     ]
    }
   ],
   "source": [
    "print(note_summarizer.content)"
   ]
  },
  {
   "cell_type": "code",
   "execution_count": null,
   "id": "1b9778c1",
   "metadata": {},
   "outputs": [],
   "source": []
  }
 ],
 "metadata": {
  "kernelspec": {
   "display_name": "venv",
   "language": "python",
   "name": "python3"
  },
  "language_info": {
   "codemirror_mode": {
    "name": "ipython",
    "version": 3
   },
   "file_extension": ".py",
   "mimetype": "text/x-python",
   "name": "python",
   "nbconvert_exporter": "python",
   "pygments_lexer": "ipython3",
   "version": "3.13.1"
  }
 },
 "nbformat": 4,
 "nbformat_minor": 5
}
